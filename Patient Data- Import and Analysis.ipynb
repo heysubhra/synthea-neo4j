{
 "cells": [
  {
   "cell_type": "code",
   "execution_count": 5,
   "metadata": {},
   "outputs": [],
   "source": [
    "! pip install python-dotenv ipython-cypher neo4j py2neo yfiles_jupyter_graphs graphdatascience pandas --quiet"
   ]
  },
  {
   "cell_type": "code",
   "execution_count": 6,
   "metadata": {},
   "outputs": [],
   "source": [
    "import os\n",
    "%load_ext dotenv\n",
    "%dotenv\n",
    "\n",
    "PATIENT_DATA_PATH=os.getenv(\"PATIENT_DATA_PATH\")\n",
    "NEO4J_HOST=os.getenv(\"NEO4J_HOST\")\n",
    "NEO4J_USER=os.getenv(\"NEO4J_USER\")\n",
    "NEO4J_PASSWORD=os.getenv(\"NEO4J_PASSWORD\")"
   ]
  },
  {
   "cell_type": "code",
   "execution_count": 7,
   "metadata": {},
   "outputs": [
    {
     "name": "stderr",
     "output_type": "stream",
     "text": [
      "<ipython-input-7-32dba96e4a69>:6: ExperimentalWarning: The configuration may change in the future.\n",
      "  driver.verify_connectivity()\n"
     ]
    }
   ],
   "source": [
    "from neo4j import GraphDatabase\n",
    "\n",
    "uri = \"bolt://{host}:7687\".format(host=NEO4J_HOST)\n",
    "\n",
    "with GraphDatabase.driver(uri, auth=(NEO4J_USER, NEO4J_PASSWORD)) as driver: \n",
    "    driver.verify_connectivity() \n",
    "    session = driver.session(database='')"
   ]
  },
  {
   "cell_type": "code",
   "execution_count": 8,
   "metadata": {},
   "outputs": [],
   "source": [
    "def cypher_run(cypher):\n",
    "    result = session.run(cypher)\n",
    "    return result.to_df()\n",
    "\n",
    "def cypher_run_g(cypher):\n",
    "    result = session.run(cypher)\n",
    "    return result.graph()"
   ]
  },
  {
   "cell_type": "markdown",
   "metadata": {},
   "source": [
    "# Import Patient Data to Neo4j\n",
    "\n",
    "Queries from: https://github.com/Neo4jSolutions/patient-journey-model/blob/master/ingest/config.yml   (Slightly changed)"
   ]
  },
  {
   "cell_type": "markdown",
   "metadata": {},
   "source": [
    "## Payers"
   ]
  },
  {
   "cell_type": "code",
   "execution_count": 4,
   "metadata": {},
   "outputs": [
    {
     "name": "stderr",
     "output_type": "stream",
     "text": [
      "<ipython-input-3-e79678bb85b2>:3: ExperimentalWarning: pandas support is experimental and might be changed or removed in future versions\n",
      "  return result.to_df()\n"
     ]
    },
    {
     "data": {
      "text/html": [
       "<div>\n",
       "<style scoped>\n",
       "    .dataframe tbody tr th:only-of-type {\n",
       "        vertical-align: middle;\n",
       "    }\n",
       "\n",
       "    .dataframe tbody tr th {\n",
       "        vertical-align: top;\n",
       "    }\n",
       "\n",
       "    .dataframe thead th {\n",
       "        text-align: right;\n",
       "    }\n",
       "</style>\n",
       "<table border=\"1\" class=\"dataframe\">\n",
       "  <thead>\n",
       "    <tr style=\"text-align: right;\">\n",
       "      <th></th>\n",
       "    </tr>\n",
       "  </thead>\n",
       "  <tbody>\n",
       "  </tbody>\n",
       "</table>\n",
       "</div>"
      ],
      "text/plain": [
       "Empty DataFrame\n",
       "Columns: []\n",
       "Index: []"
      ]
     },
     "execution_count": 4,
     "metadata": {},
     "output_type": "execute_result"
    }
   ],
   "source": [
    "q = \"\"\"\n",
    "LOAD CSV WITH HEADERS FROM 'http://fileserver:4858/patient_data/csv/payers.csv' AS row\n",
    "MERGE (p:Payer {id:row.Id})\n",
    "          SET p.name=row.NAME,\n",
    "            p.address=row.ADDRESS,\n",
    "            p.city=row.CITY,\n",
    "            p.zip=row.ZIP,\n",
    "            p.state=row.STATE_HEADQUARTERED\n",
    "\"\"\"\n",
    "cypher_run(q)"
   ]
  },
  {
   "cell_type": "code",
   "execution_count": 7,
   "metadata": {},
   "outputs": [
    {
     "name": "stderr",
     "output_type": "stream",
     "text": [
      "<ipython-input-3-e79678bb85b2>:3: ExperimentalWarning: pandas support is experimental and might be changed or removed in future versions\n",
      "  return result.to_df()\n"
     ]
    },
    {
     "data": {
      "text/html": [
       "<div>\n",
       "<style scoped>\n",
       "    .dataframe tbody tr th:only-of-type {\n",
       "        vertical-align: middle;\n",
       "    }\n",
       "\n",
       "    .dataframe tbody tr th {\n",
       "        vertical-align: top;\n",
       "    }\n",
       "\n",
       "    .dataframe thead th {\n",
       "        text-align: right;\n",
       "    }\n",
       "</style>\n",
       "<table border=\"1\" class=\"dataframe\">\n",
       "  <thead>\n",
       "    <tr style=\"text-align: right;\">\n",
       "      <th></th>\n",
       "      <th>p.id</th>\n",
       "    </tr>\n",
       "  </thead>\n",
       "  <tbody>\n",
       "    <tr>\n",
       "      <th>0</th>\n",
       "      <td>a735bf55-83e9-331a-899d-a82a60b9f60c</td>\n",
       "    </tr>\n",
       "    <tr>\n",
       "      <th>1</th>\n",
       "      <td>df166300-5a78-3502-a46a-832842197811</td>\n",
       "    </tr>\n",
       "    <tr>\n",
       "      <th>2</th>\n",
       "      <td>d18ef2e6-ef40-324c-be54-34a5ee865625</td>\n",
       "    </tr>\n",
       "    <tr>\n",
       "      <th>3</th>\n",
       "      <td>26aab0cd-6aba-3e1b-ac5b-05c8867e762c</td>\n",
       "    </tr>\n",
       "    <tr>\n",
       "      <th>4</th>\n",
       "      <td>b046940f-1664-3047-bca7-dfa76be352a4</td>\n",
       "    </tr>\n",
       "  </tbody>\n",
       "</table>\n",
       "</div>"
      ],
      "text/plain": [
       "                                   p.id\n",
       "0  a735bf55-83e9-331a-899d-a82a60b9f60c\n",
       "1  df166300-5a78-3502-a46a-832842197811\n",
       "2  d18ef2e6-ef40-324c-be54-34a5ee865625\n",
       "3  26aab0cd-6aba-3e1b-ac5b-05c8867e762c\n",
       "4  b046940f-1664-3047-bca7-dfa76be352a4"
      ]
     },
     "execution_count": 7,
     "metadata": {},
     "output_type": "execute_result"
    }
   ],
   "source": [
    "q = \"\"\" MATCH (p:Payer) return p.id LIMIT 5; \"\"\"\n",
    "cypher_run(q)"
   ]
  },
  {
   "cell_type": "markdown",
   "metadata": {},
   "source": [
    " ## Encounters"
   ]
  },
  {
   "cell_type": "code",
   "execution_count": 12,
   "metadata": {},
   "outputs": [
    {
     "name": "stderr",
     "output_type": "stream",
     "text": [
      "<ipython-input-3-e79678bb85b2>:3: ExperimentalWarning: pandas support is experimental and might be changed or removed in future versions\n",
      "  return result.to_df()\n"
     ]
    },
    {
     "data": {
      "text/html": [
       "<div>\n",
       "<style scoped>\n",
       "    .dataframe tbody tr th:only-of-type {\n",
       "        vertical-align: middle;\n",
       "    }\n",
       "\n",
       "    .dataframe tbody tr th {\n",
       "        vertical-align: top;\n",
       "    }\n",
       "\n",
       "    .dataframe thead th {\n",
       "        text-align: right;\n",
       "    }\n",
       "</style>\n",
       "<table border=\"1\" class=\"dataframe\">\n",
       "  <thead>\n",
       "    <tr style=\"text-align: right;\">\n",
       "      <th></th>\n",
       "    </tr>\n",
       "  </thead>\n",
       "  <tbody>\n",
       "  </tbody>\n",
       "</table>\n",
       "</div>"
      ],
      "text/plain": [
       "Empty DataFrame\n",
       "Columns: []\n",
       "Index: []"
      ]
     },
     "execution_count": 12,
     "metadata": {},
     "output_type": "execute_result"
    }
   ],
   "source": [
    "q = \"\"\"\n",
    "    LOAD CSV WITH HEADERS FROM 'http://fileserver:4858/patient_data/csv/encounters.csv' AS row\n",
    "    MERGE (e:Encounter {id:row.Id})\n",
    "      SET e.code=row.CODE,\n",
    "        e.description=row.DESCRIPTION,\n",
    "        e.class=row.ENCOUNTERCLASS,\n",
    "        e.date=datetime(row.START),\n",
    "        e.baseCost=toFloat(row.BASE_ENCOUNTER_COST),\n",
    "        e.claimCost=toFloat(row.TOTAL_CLAIM_COST),\n",
    "        e.coveredAmount=toFloat(row.PAYER_COVERAGE),\n",
    "        e.isEnd=false\n",
    "    FOREACH (ignore in CASE WHEN row.STOP IS NOT NULL AND row.STOP <> '' THEN [1] ELSE [] END |\n",
    "      SET e.end=datetime(row.STOP)\n",
    "    )\n",
    "    MERGE (p:Patient {id:row.PATIENT})\n",
    "    MERGE (p)-[:HAS_ENCOUNTER]->(e)\n",
    "    FOREACH (ignore in CASE WHEN row.PROVIDER IS NOT NULL AND row.PROVIDER <> '' THEN [1] ELSE [] END |\n",
    "      MERGE (o:Organization {id: row.PROVIDER})\n",
    "      MERGE (e)-[:HAS_PROVIDER]->(o))\n",
    "    WITH e,row\n",
    "    MATCH (pa:Payer {id:row.PAYER})\n",
    "    MERGE (e)-[:HAS_PAYER]->(pa)\n",
    "\"\"\"\n",
    "cypher_run(q)"
   ]
  },
  {
   "cell_type": "code",
   "execution_count": 13,
   "metadata": {},
   "outputs": [
    {
     "name": "stderr",
     "output_type": "stream",
     "text": [
      "<ipython-input-3-e79678bb85b2>:3: ExperimentalWarning: pandas support is experimental and might be changed or removed in future versions\n",
      "  return result.to_df()\n"
     ]
    },
    {
     "data": {
      "text/html": [
       "<div>\n",
       "<style scoped>\n",
       "    .dataframe tbody tr th:only-of-type {\n",
       "        vertical-align: middle;\n",
       "    }\n",
       "\n",
       "    .dataframe tbody tr th {\n",
       "        vertical-align: top;\n",
       "    }\n",
       "\n",
       "    .dataframe thead th {\n",
       "        text-align: right;\n",
       "    }\n",
       "</style>\n",
       "<table border=\"1\" class=\"dataframe\">\n",
       "  <thead>\n",
       "    <tr style=\"text-align: right;\">\n",
       "      <th></th>\n",
       "      <th>e.id</th>\n",
       "    </tr>\n",
       "  </thead>\n",
       "  <tbody>\n",
       "    <tr>\n",
       "      <th>0</th>\n",
       "      <td>c24f2498-f156-217d-c45b-23665b0650c6</td>\n",
       "    </tr>\n",
       "    <tr>\n",
       "      <th>1</th>\n",
       "      <td>5a8860b9-d95e-e4cf-e2bc-bf751eb6a847</td>\n",
       "    </tr>\n",
       "    <tr>\n",
       "      <th>2</th>\n",
       "      <td>dc8a523c-b180-8631-395a-d3208ae6242d</td>\n",
       "    </tr>\n",
       "    <tr>\n",
       "      <th>3</th>\n",
       "      <td>5e051e99-229b-ba9a-5298-8dcba6bd91a7</td>\n",
       "    </tr>\n",
       "    <tr>\n",
       "      <th>4</th>\n",
       "      <td>487df578-2eb5-cd17-39c6-3201744ed1dd</td>\n",
       "    </tr>\n",
       "  </tbody>\n",
       "</table>\n",
       "</div>"
      ],
      "text/plain": [
       "                                   e.id\n",
       "0  c24f2498-f156-217d-c45b-23665b0650c6\n",
       "1  5a8860b9-d95e-e4cf-e2bc-bf751eb6a847\n",
       "2  dc8a523c-b180-8631-395a-d3208ae6242d\n",
       "3  5e051e99-229b-ba9a-5298-8dcba6bd91a7\n",
       "4  487df578-2eb5-cd17-39c6-3201744ed1dd"
      ]
     },
     "execution_count": 13,
     "metadata": {},
     "output_type": "execute_result"
    }
   ],
   "source": [
    "q = \"\"\" MATCH (e:Encounter) return e.id LIMIT 5; \"\"\"\n",
    "cypher_run(q)"
   ]
  },
  {
   "cell_type": "markdown",
   "metadata": {},
   "source": [
    "## Providers"
   ]
  },
  {
   "cell_type": "code",
   "execution_count": 9,
   "metadata": {},
   "outputs": [
    {
     "name": "stderr",
     "output_type": "stream",
     "text": [
      "<ipython-input-8-e79678bb85b2>:3: ExperimentalWarning: pandas support is experimental and might be changed or removed in future versions\n",
      "  return result.to_df()\n"
     ]
    },
    {
     "data": {
      "text/html": [
       "<div>\n",
       "<style scoped>\n",
       "    .dataframe tbody tr th:only-of-type {\n",
       "        vertical-align: middle;\n",
       "    }\n",
       "\n",
       "    .dataframe tbody tr th {\n",
       "        vertical-align: top;\n",
       "    }\n",
       "\n",
       "    .dataframe thead th {\n",
       "        text-align: right;\n",
       "    }\n",
       "</style>\n",
       "<table border=\"1\" class=\"dataframe\">\n",
       "  <thead>\n",
       "    <tr style=\"text-align: right;\">\n",
       "      <th></th>\n",
       "    </tr>\n",
       "  </thead>\n",
       "  <tbody>\n",
       "  </tbody>\n",
       "</table>\n",
       "</div>"
      ],
      "text/plain": [
       "Empty DataFrame\n",
       "Columns: []\n",
       "Index: []"
      ]
     },
     "execution_count": 9,
     "metadata": {},
     "output_type": "execute_result"
    }
   ],
   "source": [
    "q = \"\"\"\n",
    "    LOAD CSV WITH HEADERS FROM 'http://fileserver:4858/patient_data/csv/providers.csv' AS row\n",
    "    MERGE (p:Provider {id: row.Id})\n",
    "    SET p.name=row.NAME,\n",
    "      p.speciality=row.SPECIALITY\n",
    "    MERGE (o:Organization {id: row.ORGANIZATION})\n",
    "    MERGE (p)-[:BELONGS_TO]->(o)\n",
    "    MERGE (a:Address {address: row.ADDRESS})\n",
    "    SET a.location = point({latitude:toFloat(row.LAT), longitude:toFloat(row.LON)})\n",
    "    MERGE (p)-[:HAS_ADDRESS]->(a)\n",
    "\"\"\"\n",
    "cypher_run(q)"
   ]
  },
  {
   "cell_type": "code",
   "execution_count": 10,
   "metadata": {},
   "outputs": [
    {
     "name": "stderr",
     "output_type": "stream",
     "text": [
      "<ipython-input-8-e79678bb85b2>:3: ExperimentalWarning: pandas support is experimental and might be changed or removed in future versions\n",
      "  return result.to_df()\n"
     ]
    },
    {
     "data": {
      "text/html": [
       "<div>\n",
       "<style scoped>\n",
       "    .dataframe tbody tr th:only-of-type {\n",
       "        vertical-align: middle;\n",
       "    }\n",
       "\n",
       "    .dataframe tbody tr th {\n",
       "        vertical-align: top;\n",
       "    }\n",
       "\n",
       "    .dataframe thead th {\n",
       "        text-align: right;\n",
       "    }\n",
       "</style>\n",
       "<table border=\"1\" class=\"dataframe\">\n",
       "  <thead>\n",
       "    <tr style=\"text-align: right;\">\n",
       "      <th></th>\n",
       "      <th>p.id</th>\n",
       "    </tr>\n",
       "  </thead>\n",
       "  <tbody>\n",
       "    <tr>\n",
       "      <th>0</th>\n",
       "      <td>02290f60-0f0a-338c-ab5e-4c95aa8f6597</td>\n",
       "    </tr>\n",
       "    <tr>\n",
       "      <th>1</th>\n",
       "      <td>75fda570-a6bb-3b7e-8491-173b1830b3e6</td>\n",
       "    </tr>\n",
       "    <tr>\n",
       "      <th>2</th>\n",
       "      <td>ae2fed4d-3177-3f5b-83e5-8def64e2a2b9</td>\n",
       "    </tr>\n",
       "    <tr>\n",
       "      <th>3</th>\n",
       "      <td>86d0f508-444a-3d80-baba-53cb0ad89c64</td>\n",
       "    </tr>\n",
       "    <tr>\n",
       "      <th>4</th>\n",
       "      <td>5c894baf-eed5-3715-80c2-2fa5c8b8cf22</td>\n",
       "    </tr>\n",
       "  </tbody>\n",
       "</table>\n",
       "</div>"
      ],
      "text/plain": [
       "                                   p.id\n",
       "0  02290f60-0f0a-338c-ab5e-4c95aa8f6597\n",
       "1  75fda570-a6bb-3b7e-8491-173b1830b3e6\n",
       "2  ae2fed4d-3177-3f5b-83e5-8def64e2a2b9\n",
       "3  86d0f508-444a-3d80-baba-53cb0ad89c64\n",
       "4  5c894baf-eed5-3715-80c2-2fa5c8b8cf22"
      ]
     },
     "execution_count": 10,
     "metadata": {},
     "output_type": "execute_result"
    }
   ],
   "source": [
    "q = \"\"\" MATCH (p:Provider) return p.id LIMIT 5; \"\"\"\n",
    "cypher_run(q)"
   ]
  },
  {
   "cell_type": "markdown",
   "metadata": {},
   "source": [
    "## Patients"
   ]
  },
  {
   "cell_type": "code",
   "execution_count": 11,
   "metadata": {},
   "outputs": [
    {
     "name": "stderr",
     "output_type": "stream",
     "text": [
      "<ipython-input-8-e79678bb85b2>:3: ExperimentalWarning: pandas support is experimental and might be changed or removed in future versions\n",
      "  return result.to_df()\n"
     ]
    },
    {
     "data": {
      "text/html": [
       "<div>\n",
       "<style scoped>\n",
       "    .dataframe tbody tr th:only-of-type {\n",
       "        vertical-align: middle;\n",
       "    }\n",
       "\n",
       "    .dataframe tbody tr th {\n",
       "        vertical-align: top;\n",
       "    }\n",
       "\n",
       "    .dataframe thead th {\n",
       "        text-align: right;\n",
       "    }\n",
       "</style>\n",
       "<table border=\"1\" class=\"dataframe\">\n",
       "  <thead>\n",
       "    <tr style=\"text-align: right;\">\n",
       "      <th></th>\n",
       "    </tr>\n",
       "  </thead>\n",
       "  <tbody>\n",
       "  </tbody>\n",
       "</table>\n",
       "</div>"
      ],
      "text/plain": [
       "Empty DataFrame\n",
       "Columns: []\n",
       "Index: []"
      ]
     },
     "execution_count": 11,
     "metadata": {},
     "output_type": "execute_result"
    }
   ],
   "source": [
    "q = \"\"\"\n",
    "        LOAD CSV WITH HEADERS FROM 'http://fileserver:4858/patient_data/csv/patients.csv' AS row\n",
    "        MERGE (p:Patient {id:row.Id})\n",
    "          SET\n",
    "            p.birthDate=datetime(row.BIRTHDATE),\n",
    "            p.deathDate=row.DEATHDATE,\n",
    "            p.firstName=row.FIRST,\n",
    "            p.lastName=row.LAST,\n",
    "            p.SSN=row.SSN,\n",
    "            p.marital=row.MARITAL,\n",
    "            p.gender=row.GENDER,\n",
    "            p.race=row.RACE,\n",
    "            p.ethnicity=row.ETHNICITY,\n",
    "            p.city=row.CITY\n",
    "        MERGE (a:Address {address: row.ADDRESS})\n",
    "        SET a.location = point({latitude:toFloat(row.LAT), longitude:toFloat(row.LON)})\n",
    "        MERGE (p)-[:HAS_ADDRESS]->(a)\n",
    "\"\"\"\n",
    "cypher_run(q)"
   ]
  },
  {
   "cell_type": "code",
   "execution_count": 12,
   "metadata": {},
   "outputs": [
    {
     "name": "stderr",
     "output_type": "stream",
     "text": [
      "<ipython-input-8-e79678bb85b2>:3: ExperimentalWarning: pandas support is experimental and might be changed or removed in future versions\n",
      "  return result.to_df()\n"
     ]
    },
    {
     "data": {
      "text/html": [
       "<div>\n",
       "<style scoped>\n",
       "    .dataframe tbody tr th:only-of-type {\n",
       "        vertical-align: middle;\n",
       "    }\n",
       "\n",
       "    .dataframe tbody tr th {\n",
       "        vertical-align: top;\n",
       "    }\n",
       "\n",
       "    .dataframe thead th {\n",
       "        text-align: right;\n",
       "    }\n",
       "</style>\n",
       "<table border=\"1\" class=\"dataframe\">\n",
       "  <thead>\n",
       "    <tr style=\"text-align: right;\">\n",
       "      <th></th>\n",
       "      <th>p.id</th>\n",
       "    </tr>\n",
       "  </thead>\n",
       "  <tbody>\n",
       "    <tr>\n",
       "      <th>0</th>\n",
       "      <td>358cb878-9fb6-e36f-45b8-34c3bc7b1489</td>\n",
       "    </tr>\n",
       "    <tr>\n",
       "      <th>1</th>\n",
       "      <td>d46afbe3-e7b8-c047-6027-8d6d0b59be57</td>\n",
       "    </tr>\n",
       "    <tr>\n",
       "      <th>2</th>\n",
       "      <td>879355dc-489a-fcbb-3466-c5483fb18c0e</td>\n",
       "    </tr>\n",
       "    <tr>\n",
       "      <th>3</th>\n",
       "      <td>33873583-872d-0765-5501-c89a85c5580d</td>\n",
       "    </tr>\n",
       "    <tr>\n",
       "      <th>4</th>\n",
       "      <td>18d1ab89-99d4-0733-3fde-8d2f272e17de</td>\n",
       "    </tr>\n",
       "  </tbody>\n",
       "</table>\n",
       "</div>"
      ],
      "text/plain": [
       "                                   p.id\n",
       "0  358cb878-9fb6-e36f-45b8-34c3bc7b1489\n",
       "1  d46afbe3-e7b8-c047-6027-8d6d0b59be57\n",
       "2  879355dc-489a-fcbb-3466-c5483fb18c0e\n",
       "3  33873583-872d-0765-5501-c89a85c5580d\n",
       "4  18d1ab89-99d4-0733-3fde-8d2f272e17de"
      ]
     },
     "execution_count": 12,
     "metadata": {},
     "output_type": "execute_result"
    }
   ],
   "source": [
    "q = \"\"\" MATCH (p:Patient) return p.id LIMIT 5; \"\"\"\n",
    "cypher_run(q)"
   ]
  },
  {
   "cell_type": "markdown",
   "metadata": {},
   "source": [
    "## Payer Transitions"
   ]
  },
  {
   "cell_type": "code",
   "execution_count": 13,
   "metadata": {},
   "outputs": [
    {
     "name": "stderr",
     "output_type": "stream",
     "text": [
      "<ipython-input-8-e79678bb85b2>:3: ExperimentalWarning: pandas support is experimental and might be changed or removed in future versions\n",
      "  return result.to_df()\n"
     ]
    },
    {
     "data": {
      "text/html": [
       "<div>\n",
       "<style scoped>\n",
       "    .dataframe tbody tr th:only-of-type {\n",
       "        vertical-align: middle;\n",
       "    }\n",
       "\n",
       "    .dataframe tbody tr th {\n",
       "        vertical-align: top;\n",
       "    }\n",
       "\n",
       "    .dataframe thead th {\n",
       "        text-align: right;\n",
       "    }\n",
       "</style>\n",
       "<table border=\"1\" class=\"dataframe\">\n",
       "  <thead>\n",
       "    <tr style=\"text-align: right;\">\n",
       "      <th></th>\n",
       "    </tr>\n",
       "  </thead>\n",
       "  <tbody>\n",
       "  </tbody>\n",
       "</table>\n",
       "</div>"
      ],
      "text/plain": [
       "Empty DataFrame\n",
       "Columns: []\n",
       "Index: []"
      ]
     },
     "execution_count": 13,
     "metadata": {},
     "output_type": "execute_result"
    }
   ],
   "source": [
    "q = \"\"\"\n",
    "    LOAD CSV WITH HEADERS FROM 'http://fileserver:4858/patient_data/csv/payer_transitions.csv' AS row\n",
    "    MATCH (p:Patient {id:row.PATIENT})\n",
    "    MATCH (payer:Payer {id:row.PAYER})\n",
    "    CREATE (p)-[s:INSURANCE_START]->(payer)\n",
    "    SET s.year=toInteger(row.START_YEAR)\n",
    "    CREATE (p)-[e:INSURANCE_END]->(payer)\n",
    "    SET e.year=toInteger(row.END_YEAR)\n",
    "\"\"\"\n",
    "cypher_run(q)"
   ]
  },
  {
   "cell_type": "code",
   "execution_count": 14,
   "metadata": {},
   "outputs": [
    {
     "name": "stderr",
     "output_type": "stream",
     "text": [
      "<ipython-input-8-e79678bb85b2>:3: ExperimentalWarning: pandas support is experimental and might be changed or removed in future versions\n",
      "  return result.to_df()\n"
     ]
    },
    {
     "data": {
      "text/html": [
       "<div>\n",
       "<style scoped>\n",
       "    .dataframe tbody tr th:only-of-type {\n",
       "        vertical-align: middle;\n",
       "    }\n",
       "\n",
       "    .dataframe tbody tr th {\n",
       "        vertical-align: top;\n",
       "    }\n",
       "\n",
       "    .dataframe thead th {\n",
       "        text-align: right;\n",
       "    }\n",
       "</style>\n",
       "<table border=\"1\" class=\"dataframe\">\n",
       "  <thead>\n",
       "    <tr style=\"text-align: right;\">\n",
       "      <th></th>\n",
       "      <th>p.id</th>\n",
       "    </tr>\n",
       "  </thead>\n",
       "  <tbody>\n",
       "    <tr>\n",
       "      <th>0</th>\n",
       "      <td>a735bf55-83e9-331a-899d-a82a60b9f60c</td>\n",
       "    </tr>\n",
       "    <tr>\n",
       "      <th>1</th>\n",
       "      <td>df166300-5a78-3502-a46a-832842197811</td>\n",
       "    </tr>\n",
       "    <tr>\n",
       "      <th>2</th>\n",
       "      <td>d18ef2e6-ef40-324c-be54-34a5ee865625</td>\n",
       "    </tr>\n",
       "    <tr>\n",
       "      <th>3</th>\n",
       "      <td>26aab0cd-6aba-3e1b-ac5b-05c8867e762c</td>\n",
       "    </tr>\n",
       "    <tr>\n",
       "      <th>4</th>\n",
       "      <td>b046940f-1664-3047-bca7-dfa76be352a4</td>\n",
       "    </tr>\n",
       "  </tbody>\n",
       "</table>\n",
       "</div>"
      ],
      "text/plain": [
       "                                   p.id\n",
       "0  a735bf55-83e9-331a-899d-a82a60b9f60c\n",
       "1  df166300-5a78-3502-a46a-832842197811\n",
       "2  d18ef2e6-ef40-324c-be54-34a5ee865625\n",
       "3  26aab0cd-6aba-3e1b-ac5b-05c8867e762c\n",
       "4  b046940f-1664-3047-bca7-dfa76be352a4"
      ]
     },
     "execution_count": 14,
     "metadata": {},
     "output_type": "execute_result"
    }
   ],
   "source": [
    "q = \"\"\" MATCH (p:Payer) return p.id LIMIT 5; \"\"\"\n",
    "cypher_run(q)"
   ]
  },
  {
   "cell_type": "markdown",
   "metadata": {},
   "source": [
    "## Allergies"
   ]
  },
  {
   "cell_type": "code",
   "execution_count": 16,
   "metadata": {},
   "outputs": [
    {
     "name": "stderr",
     "output_type": "stream",
     "text": [
      "<ipython-input-8-e79678bb85b2>:3: ExperimentalWarning: pandas support is experimental and might be changed or removed in future versions\n",
      "  return result.to_df()\n"
     ]
    },
    {
     "data": {
      "text/html": [
       "<div>\n",
       "<style scoped>\n",
       "    .dataframe tbody tr th:only-of-type {\n",
       "        vertical-align: middle;\n",
       "    }\n",
       "\n",
       "    .dataframe tbody tr th {\n",
       "        vertical-align: top;\n",
       "    }\n",
       "\n",
       "    .dataframe thead th {\n",
       "        text-align: right;\n",
       "    }\n",
       "</style>\n",
       "<table border=\"1\" class=\"dataframe\">\n",
       "  <thead>\n",
       "    <tr style=\"text-align: right;\">\n",
       "      <th></th>\n",
       "    </tr>\n",
       "  </thead>\n",
       "  <tbody>\n",
       "  </tbody>\n",
       "</table>\n",
       "</div>"
      ],
      "text/plain": [
       "Empty DataFrame\n",
       "Columns: []\n",
       "Index: []"
      ]
     },
     "execution_count": 16,
     "metadata": {},
     "output_type": "execute_result"
    }
   ],
   "source": [
    "q = \"\"\"\n",
    "        LOAD CSV WITH HEADERS FROM 'http://fileserver:4858/patient_data/csv/allergies.csv' AS row\n",
    "          MATCH (p:Patient {id:row.PATIENT})\n",
    "          MERGE (a:Allergy {code:row.CODE})\n",
    "          SET a.description=row.DESCRIPTION\n",
    "          MERGE (as:Encounter {id:row.ENCOUNTER, isEnd: false})\n",
    "          ON CREATE\n",
    "            SET as.date=datetime(row.START), as.code=row.CODE\n",
    "          ON MATCH\n",
    "            SET as.code=row.CODE\n",
    "          MERGE (p)-[:HAS_ENCOUNTER]->(as)\n",
    "          MERGE (as)-[:HAS_ALLERGY]->(a)\n",
    "          WITH p,a,as,row\n",
    "          WHERE row.STOP IS NOT NULL and row.STOP <> ''\n",
    "          MERGE (ae:Encounter {id:row.ENCOUNTER, date:datetime(row.STOP)})\n",
    "          SET ae.code=row.CODE, ae.isEnd=true\n",
    "          MERGE (p)-[:HAS_ENCOUNTER]->(ae)\n",
    "          MERGE (ae)-[:HAS_ALLERGY]->(a)\n",
    "          MERGE (as)-[:HAS_END]->(ae)\n",
    "\"\"\"\n",
    "cypher_run(q)"
   ]
  },
  {
   "cell_type": "code",
   "execution_count": 17,
   "metadata": {},
   "outputs": [
    {
     "name": "stderr",
     "output_type": "stream",
     "text": [
      "<ipython-input-8-e79678bb85b2>:3: ExperimentalWarning: pandas support is experimental and might be changed or removed in future versions\n",
      "  return result.to_df()\n"
     ]
    },
    {
     "data": {
      "text/html": [
       "<div>\n",
       "<style scoped>\n",
       "    .dataframe tbody tr th:only-of-type {\n",
       "        vertical-align: middle;\n",
       "    }\n",
       "\n",
       "    .dataframe tbody tr th {\n",
       "        vertical-align: top;\n",
       "    }\n",
       "\n",
       "    .dataframe thead th {\n",
       "        text-align: right;\n",
       "    }\n",
       "</style>\n",
       "<table border=\"1\" class=\"dataframe\">\n",
       "  <thead>\n",
       "    <tr style=\"text-align: right;\">\n",
       "      <th></th>\n",
       "      <th>a.code</th>\n",
       "    </tr>\n",
       "  </thead>\n",
       "  <tbody>\n",
       "    <tr>\n",
       "      <th>0</th>\n",
       "      <td>419199007</td>\n",
       "    </tr>\n",
       "    <tr>\n",
       "      <th>1</th>\n",
       "      <td>442571000124108</td>\n",
       "    </tr>\n",
       "    <tr>\n",
       "      <th>2</th>\n",
       "      <td>264287008</td>\n",
       "    </tr>\n",
       "    <tr>\n",
       "      <th>3</th>\n",
       "      <td>412071004</td>\n",
       "    </tr>\n",
       "    <tr>\n",
       "      <th>4</th>\n",
       "      <td>29046</td>\n",
       "    </tr>\n",
       "  </tbody>\n",
       "</table>\n",
       "</div>"
      ],
      "text/plain": [
       "            a.code\n",
       "0        419199007\n",
       "1  442571000124108\n",
       "2        264287008\n",
       "3        412071004\n",
       "4            29046"
      ]
     },
     "execution_count": 17,
     "metadata": {},
     "output_type": "execute_result"
    }
   ],
   "source": [
    "q = \"\"\" MATCH (a:Allergy) return a.code LIMIT 5; \"\"\"\n",
    "cypher_run(q)"
   ]
  },
  {
   "cell_type": "markdown",
   "metadata": {},
   "source": [
    "## Conditions"
   ]
  },
  {
   "cell_type": "code",
   "execution_count": 18,
   "metadata": {},
   "outputs": [
    {
     "name": "stderr",
     "output_type": "stream",
     "text": [
      "<ipython-input-8-e79678bb85b2>:3: ExperimentalWarning: pandas support is experimental and might be changed or removed in future versions\n",
      "  return result.to_df()\n"
     ]
    },
    {
     "data": {
      "text/html": [
       "<div>\n",
       "<style scoped>\n",
       "    .dataframe tbody tr th:only-of-type {\n",
       "        vertical-align: middle;\n",
       "    }\n",
       "\n",
       "    .dataframe tbody tr th {\n",
       "        vertical-align: top;\n",
       "    }\n",
       "\n",
       "    .dataframe thead th {\n",
       "        text-align: right;\n",
       "    }\n",
       "</style>\n",
       "<table border=\"1\" class=\"dataframe\">\n",
       "  <thead>\n",
       "    <tr style=\"text-align: right;\">\n",
       "      <th></th>\n",
       "    </tr>\n",
       "  </thead>\n",
       "  <tbody>\n",
       "  </tbody>\n",
       "</table>\n",
       "</div>"
      ],
      "text/plain": [
       "Empty DataFrame\n",
       "Columns: []\n",
       "Index: []"
      ]
     },
     "execution_count": 18,
     "metadata": {},
     "output_type": "execute_result"
    }
   ],
   "source": [
    "q = \"\"\"\n",
    "    LOAD CSV WITH HEADERS FROM 'http://fileserver:4858/patient_data/csv/conditions.csv' AS row\n",
    "        MATCH (p:Patient {id:row.PATIENT})\n",
    "        MERGE (c:Condition {code:row.CODE})\n",
    "        SET c.description=row.DESCRIPTION\n",
    "        MERGE (cs:Encounter {id:row.ENCOUNTER, isEnd: false})\n",
    "        ON CREATE\n",
    "          SET cs.date=datetime(row.START), cs.code=row.CODE\n",
    "        ON MATCH\n",
    "          SET cs.code=row.CODE\n",
    "        MERGE (p)-[:HAS_ENCOUNTER]->(cs)\n",
    "        MERGE (cs)-[:HAS_CONDITION]->(c)\n",
    "        WITH p,c,cs,row\n",
    "        WHERE row.STOP IS NOT NULL and row.STOP <> ''\n",
    "        MERGE (ce:Encounter {id:row.ENCOUNTER, date:datetime(row.STOP)})\n",
    "        SET ce.code=row.CODE, ce.isEnd=true\n",
    "        MERGE (p)-[:HAS_ENCOUNTER]->(ce)\n",
    "        MERGE (ce)-[:HAS_CONDITION]->(c)\n",
    "        MERGE (cs)-[:HAS_END]->(ce)\n",
    "\"\"\"\n",
    "cypher_run(q)"
   ]
  },
  {
   "cell_type": "code",
   "execution_count": 19,
   "metadata": {},
   "outputs": [
    {
     "name": "stderr",
     "output_type": "stream",
     "text": [
      "<ipython-input-8-e79678bb85b2>:3: ExperimentalWarning: pandas support is experimental and might be changed or removed in future versions\n",
      "  return result.to_df()\n"
     ]
    },
    {
     "data": {
      "text/html": [
       "<div>\n",
       "<style scoped>\n",
       "    .dataframe tbody tr th:only-of-type {\n",
       "        vertical-align: middle;\n",
       "    }\n",
       "\n",
       "    .dataframe tbody tr th {\n",
       "        vertical-align: top;\n",
       "    }\n",
       "\n",
       "    .dataframe thead th {\n",
       "        text-align: right;\n",
       "    }\n",
       "</style>\n",
       "<table border=\"1\" class=\"dataframe\">\n",
       "  <thead>\n",
       "    <tr style=\"text-align: right;\">\n",
       "      <th></th>\n",
       "      <th>c.code</th>\n",
       "    </tr>\n",
       "  </thead>\n",
       "  <tbody>\n",
       "    <tr>\n",
       "      <th>0</th>\n",
       "      <td>314529007</td>\n",
       "    </tr>\n",
       "    <tr>\n",
       "      <th>1</th>\n",
       "      <td>75498004</td>\n",
       "    </tr>\n",
       "    <tr>\n",
       "      <th>2</th>\n",
       "      <td>40055000</td>\n",
       "    </tr>\n",
       "    <tr>\n",
       "      <th>3</th>\n",
       "      <td>224299000</td>\n",
       "    </tr>\n",
       "    <tr>\n",
       "      <th>4</th>\n",
       "      <td>160903007</td>\n",
       "    </tr>\n",
       "  </tbody>\n",
       "</table>\n",
       "</div>"
      ],
      "text/plain": [
       "      c.code\n",
       "0  314529007\n",
       "1   75498004\n",
       "2   40055000\n",
       "3  224299000\n",
       "4  160903007"
      ]
     },
     "execution_count": 19,
     "metadata": {},
     "output_type": "execute_result"
    }
   ],
   "source": [
    "q = \"\"\" MATCH (c:Condition) return c.code LIMIT 5; \"\"\"\n",
    "cypher_run(q)"
   ]
  },
  {
   "cell_type": "markdown",
   "metadata": {},
   "source": [
    " ## Medications"
   ]
  },
  {
   "cell_type": "code",
   "execution_count": 20,
   "metadata": {},
   "outputs": [
    {
     "name": "stderr",
     "output_type": "stream",
     "text": [
      "<ipython-input-8-e79678bb85b2>:3: ExperimentalWarning: pandas support is experimental and might be changed or removed in future versions\n",
      "  return result.to_df()\n"
     ]
    },
    {
     "data": {
      "text/html": [
       "<div>\n",
       "<style scoped>\n",
       "    .dataframe tbody tr th:only-of-type {\n",
       "        vertical-align: middle;\n",
       "    }\n",
       "\n",
       "    .dataframe tbody tr th {\n",
       "        vertical-align: top;\n",
       "    }\n",
       "\n",
       "    .dataframe thead th {\n",
       "        text-align: right;\n",
       "    }\n",
       "</style>\n",
       "<table border=\"1\" class=\"dataframe\">\n",
       "  <thead>\n",
       "    <tr style=\"text-align: right;\">\n",
       "      <th></th>\n",
       "    </tr>\n",
       "  </thead>\n",
       "  <tbody>\n",
       "  </tbody>\n",
       "</table>\n",
       "</div>"
      ],
      "text/plain": [
       "Empty DataFrame\n",
       "Columns: []\n",
       "Index: []"
      ]
     },
     "execution_count": 20,
     "metadata": {},
     "output_type": "execute_result"
    }
   ],
   "source": [
    "q = \"\"\"\n",
    "        LOAD CSV WITH HEADERS FROM 'http://fileserver:4858/patient_data/csv/medications.csv' AS row\n",
    "           MERGE (p:Patient {id:row.PATIENT})\n",
    "          MERGE (d:Drug {code:row.CODE})\n",
    "          SET d.description=row.DESCRIPTION\n",
    "          MERGE (ps:Encounter {id:row.ENCOUNTER, isEnd: false})\n",
    "          ON CREATE\n",
    "            SET ps.code=row.CODE, ps.date=datetime(row.START)\n",
    "          ON MATCH\n",
    "            SET ps.code=row.CODE\n",
    "          MERGE (p)-[:HAS_ENCOUNTER]->(ps)\n",
    "          MERGE (ps)-[:HAS_DRUG]->(d)\n",
    "          WITH p,d,ps,row\n",
    "          WHERE row.STOP IS NOT NULL and row.STOP <> ''\n",
    "          CREATE (pe:Encounter {id:row.ENCOUNTER, date:datetime(row.STOP)})\n",
    "          SET pe.code=row.CODE, pe.isEnd=true\n",
    "          MERGE (p)-[:HAS_ENCOUNTER]->(pe)\n",
    "          MERGE (pe)-[:HAS_DRUG]->(d)\n",
    "          MERGE (ps)-[:HAS_END]->(pe)\n",
    "\"\"\"\n",
    "cypher_run(q)"
   ]
  },
  {
   "cell_type": "code",
   "execution_count": 21,
   "metadata": {},
   "outputs": [
    {
     "name": "stderr",
     "output_type": "stream",
     "text": [
      "<ipython-input-8-e79678bb85b2>:3: ExperimentalWarning: pandas support is experimental and might be changed or removed in future versions\n",
      "  return result.to_df()\n"
     ]
    },
    {
     "data": {
      "text/html": [
       "<div>\n",
       "<style scoped>\n",
       "    .dataframe tbody tr th:only-of-type {\n",
       "        vertical-align: middle;\n",
       "    }\n",
       "\n",
       "    .dataframe tbody tr th {\n",
       "        vertical-align: top;\n",
       "    }\n",
       "\n",
       "    .dataframe thead th {\n",
       "        text-align: right;\n",
       "    }\n",
       "</style>\n",
       "<table border=\"1\" class=\"dataframe\">\n",
       "  <thead>\n",
       "    <tr style=\"text-align: right;\">\n",
       "      <th></th>\n",
       "      <th>d.code</th>\n",
       "    </tr>\n",
       "  </thead>\n",
       "  <tbody>\n",
       "    <tr>\n",
       "      <th>0</th>\n",
       "      <td>665078</td>\n",
       "    </tr>\n",
       "    <tr>\n",
       "      <th>1</th>\n",
       "      <td>1870230</td>\n",
       "    </tr>\n",
       "    <tr>\n",
       "      <th>2</th>\n",
       "      <td>857005</td>\n",
       "    </tr>\n",
       "    <tr>\n",
       "      <th>3</th>\n",
       "      <td>849574</td>\n",
       "    </tr>\n",
       "    <tr>\n",
       "      <th>4</th>\n",
       "      <td>834061</td>\n",
       "    </tr>\n",
       "  </tbody>\n",
       "</table>\n",
       "</div>"
      ],
      "text/plain": [
       "    d.code\n",
       "0   665078\n",
       "1  1870230\n",
       "2   857005\n",
       "3   849574\n",
       "4   834061"
      ]
     },
     "execution_count": 21,
     "metadata": {},
     "output_type": "execute_result"
    }
   ],
   "source": [
    "q = \"\"\" MATCH (d:Drug) return d.code LIMIT 5; \"\"\"\n",
    "cypher_run(q)"
   ]
  },
  {
   "cell_type": "markdown",
   "metadata": {},
   "source": [
    "## Procedures"
   ]
  },
  {
   "cell_type": "code",
   "execution_count": 22,
   "metadata": {},
   "outputs": [
    {
     "name": "stderr",
     "output_type": "stream",
     "text": [
      "<ipython-input-8-e79678bb85b2>:3: ExperimentalWarning: pandas support is experimental and might be changed or removed in future versions\n",
      "  return result.to_df()\n"
     ]
    },
    {
     "data": {
      "text/html": [
       "<div>\n",
       "<style scoped>\n",
       "    .dataframe tbody tr th:only-of-type {\n",
       "        vertical-align: middle;\n",
       "    }\n",
       "\n",
       "    .dataframe tbody tr th {\n",
       "        vertical-align: top;\n",
       "    }\n",
       "\n",
       "    .dataframe thead th {\n",
       "        text-align: right;\n",
       "    }\n",
       "</style>\n",
       "<table border=\"1\" class=\"dataframe\">\n",
       "  <thead>\n",
       "    <tr style=\"text-align: right;\">\n",
       "      <th></th>\n",
       "    </tr>\n",
       "  </thead>\n",
       "  <tbody>\n",
       "  </tbody>\n",
       "</table>\n",
       "</div>"
      ],
      "text/plain": [
       "Empty DataFrame\n",
       "Columns: []\n",
       "Index: []"
      ]
     },
     "execution_count": 22,
     "metadata": {},
     "output_type": "execute_result"
    }
   ],
   "source": [
    "q = \"\"\"\n",
    "    LOAD CSV WITH HEADERS FROM 'http://fileserver:4858/patient_data/csv/procedures.csv' AS row\n",
    "          MERGE (p:Patient {id:row.PATIENT})\n",
    "          MERGE (r:Procedure {code:row.CODE})\n",
    "          SET r.description=row.DESCRIPTION\n",
    "          MERGE (pe:Encounter {id:row.ENCOUNTER, isEnd: false})\n",
    "          ON CREATE\n",
    "            SET pe.date=datetime(row.START), pe.code=row.CODE\n",
    "          ON MATCH\n",
    "            SET pe.code=row.CODE\n",
    "          MERGE (p)-[:HAS_ENCOUNTER]->(pe)\n",
    "          MERGE (pe)-[:HAS_PROCEDURE]->(r)\n",
    "\"\"\"\n",
    "cypher_run(q)"
   ]
  },
  {
   "cell_type": "code",
   "execution_count": 23,
   "metadata": {},
   "outputs": [
    {
     "name": "stderr",
     "output_type": "stream",
     "text": [
      "<ipython-input-8-e79678bb85b2>:3: ExperimentalWarning: pandas support is experimental and might be changed or removed in future versions\n",
      "  return result.to_df()\n"
     ]
    },
    {
     "data": {
      "text/html": [
       "<div>\n",
       "<style scoped>\n",
       "    .dataframe tbody tr th:only-of-type {\n",
       "        vertical-align: middle;\n",
       "    }\n",
       "\n",
       "    .dataframe tbody tr th {\n",
       "        vertical-align: top;\n",
       "    }\n",
       "\n",
       "    .dataframe thead th {\n",
       "        text-align: right;\n",
       "    }\n",
       "</style>\n",
       "<table border=\"1\" class=\"dataframe\">\n",
       "  <thead>\n",
       "    <tr style=\"text-align: right;\">\n",
       "      <th></th>\n",
       "      <th>p.code</th>\n",
       "    </tr>\n",
       "  </thead>\n",
       "  <tbody>\n",
       "    <tr>\n",
       "      <th>0</th>\n",
       "      <td>171207006</td>\n",
       "    </tr>\n",
       "    <tr>\n",
       "      <th>1</th>\n",
       "      <td>715252007</td>\n",
       "    </tr>\n",
       "    <tr>\n",
       "      <th>2</th>\n",
       "      <td>710841007</td>\n",
       "    </tr>\n",
       "    <tr>\n",
       "      <th>3</th>\n",
       "      <td>428211000124100</td>\n",
       "    </tr>\n",
       "    <tr>\n",
       "      <th>4</th>\n",
       "      <td>868187001</td>\n",
       "    </tr>\n",
       "  </tbody>\n",
       "</table>\n",
       "</div>"
      ],
      "text/plain": [
       "            p.code\n",
       "0        171207006\n",
       "1        715252007\n",
       "2        710841007\n",
       "3  428211000124100\n",
       "4        868187001"
      ]
     },
     "execution_count": 23,
     "metadata": {},
     "output_type": "execute_result"
    }
   ],
   "source": [
    "q = \"\"\" MATCH (p:Procedure) return p.code LIMIT 5; \"\"\"\n",
    "cypher_run(q)"
   ]
  },
  {
   "cell_type": "markdown",
   "metadata": {},
   "source": [
    "## Observations"
   ]
  },
  {
   "cell_type": "code",
   "execution_count": 29,
   "metadata": {},
   "outputs": [
    {
     "name": "stderr",
     "output_type": "stream",
     "text": [
      "<ipython-input-8-e79678bb85b2>:3: ExperimentalWarning: pandas support is experimental and might be changed or removed in future versions\n",
      "  return result.to_df()\n"
     ]
    },
    {
     "data": {
      "text/html": [
       "<div>\n",
       "<style scoped>\n",
       "    .dataframe tbody tr th:only-of-type {\n",
       "        vertical-align: middle;\n",
       "    }\n",
       "\n",
       "    .dataframe tbody tr th {\n",
       "        vertical-align: top;\n",
       "    }\n",
       "\n",
       "    .dataframe thead th {\n",
       "        text-align: right;\n",
       "    }\n",
       "</style>\n",
       "<table border=\"1\" class=\"dataframe\">\n",
       "  <thead>\n",
       "    <tr style=\"text-align: right;\">\n",
       "      <th></th>\n",
       "    </tr>\n",
       "  </thead>\n",
       "  <tbody>\n",
       "  </tbody>\n",
       "</table>\n",
       "</div>"
      ],
      "text/plain": [
       "Empty DataFrame\n",
       "Columns: []\n",
       "Index: []"
      ]
     },
     "execution_count": 29,
     "metadata": {},
     "output_type": "execute_result"
    }
   ],
   "source": [
    "# observations\n",
    "q = \"\"\"\n",
    "    LOAD CSV WITH HEADERS FROM 'http://fileserver:4858/patient_data/csv/observations.csv' AS row\n",
    "      WITH row\n",
    "      WHERE row.ENCOUNTER IS NOT NULL and row.ENCOUNTER <> ''\n",
    "      WITH row, row.CODE as code, CASE row.TYPE WHEN 'text' THEN row.VALUE ELSE toFloat(row.VALUE) END as value\n",
    "      WITH row, apoc.map.fromPairs([[code, value]]) as attr\n",
    "      MATCH (p:Patient {id:row.PATIENT})\n",
    "      MATCH (oe:Encounter {id:row.ENCOUNTER, isEnd: false})\n",
    "      MERGE (oe) -[:HAS_OBSERVATION]-> (o:Observation )\n",
    "      SET o += attr\n",
    "\"\"\"\n",
    "cypher_run(q)"
   ]
  },
  {
   "cell_type": "code",
   "execution_count": 30,
   "metadata": {},
   "outputs": [
    {
     "name": "stderr",
     "output_type": "stream",
     "text": [
      "<ipython-input-8-e79678bb85b2>:3: ExperimentalWarning: pandas support is experimental and might be changed or removed in future versions\n",
      "  return result.to_df()\n"
     ]
    },
    {
     "data": {
      "text/html": [
       "<div>\n",
       "<style scoped>\n",
       "    .dataframe tbody tr th:only-of-type {\n",
       "        vertical-align: middle;\n",
       "    }\n",
       "\n",
       "    .dataframe tbody tr th {\n",
       "        vertical-align: top;\n",
       "    }\n",
       "\n",
       "    .dataframe thead th {\n",
       "        text-align: right;\n",
       "    }\n",
       "</style>\n",
       "<table border=\"1\" class=\"dataframe\">\n",
       "  <thead>\n",
       "    <tr style=\"text-align: right;\">\n",
       "      <th></th>\n",
       "      <th>oe.id</th>\n",
       "    </tr>\n",
       "  </thead>\n",
       "  <tbody>\n",
       "    <tr>\n",
       "      <th>0</th>\n",
       "      <td>5e051e99-229b-ba9a-5298-8dcba6bd91a7</td>\n",
       "    </tr>\n",
       "    <tr>\n",
       "      <th>1</th>\n",
       "      <td>1600e625-65b1-2acb-8a9f-ef3eabbf7e44</td>\n",
       "    </tr>\n",
       "    <tr>\n",
       "      <th>2</th>\n",
       "      <td>9573e48f-20e0-aae6-47ca-4f60db51d50d</td>\n",
       "    </tr>\n",
       "    <tr>\n",
       "      <th>3</th>\n",
       "      <td>e5fed907-1d5a-8a47-2013-ab6e6770b07e</td>\n",
       "    </tr>\n",
       "    <tr>\n",
       "      <th>4</th>\n",
       "      <td>aca906bb-cdbc-de3f-2c85-cabc8f5139d3</td>\n",
       "    </tr>\n",
       "  </tbody>\n",
       "</table>\n",
       "</div>"
      ],
      "text/plain": [
       "                                  oe.id\n",
       "0  5e051e99-229b-ba9a-5298-8dcba6bd91a7\n",
       "1  1600e625-65b1-2acb-8a9f-ef3eabbf7e44\n",
       "2  9573e48f-20e0-aae6-47ca-4f60db51d50d\n",
       "3  e5fed907-1d5a-8a47-2013-ab6e6770b07e\n",
       "4  aca906bb-cdbc-de3f-2c85-cabc8f5139d3"
      ]
     },
     "execution_count": 30,
     "metadata": {},
     "output_type": "execute_result"
    }
   ],
   "source": [
    "q = \"\"\" MATCH (oe:Encounter)-[:HAS_OBSERVATION]-> (o:Observation ) return oe.id LIMIT 5; \"\"\"\n",
    "cypher_run(q)"
   ]
  },
  {
   "cell_type": "markdown",
   "metadata": {},
   "source": [
    "## Care Plans"
   ]
  },
  {
   "cell_type": "code",
   "execution_count": 33,
   "metadata": {},
   "outputs": [
    {
     "name": "stderr",
     "output_type": "stream",
     "text": [
      "<ipython-input-8-e79678bb85b2>:3: ExperimentalWarning: pandas support is experimental and might be changed or removed in future versions\n",
      "  return result.to_df()\n"
     ]
    },
    {
     "data": {
      "text/html": [
       "<div>\n",
       "<style scoped>\n",
       "    .dataframe tbody tr th:only-of-type {\n",
       "        vertical-align: middle;\n",
       "    }\n",
       "\n",
       "    .dataframe tbody tr th {\n",
       "        vertical-align: top;\n",
       "    }\n",
       "\n",
       "    .dataframe thead th {\n",
       "        text-align: right;\n",
       "    }\n",
       "</style>\n",
       "<table border=\"1\" class=\"dataframe\">\n",
       "  <thead>\n",
       "    <tr style=\"text-align: right;\">\n",
       "      <th></th>\n",
       "    </tr>\n",
       "  </thead>\n",
       "  <tbody>\n",
       "  </tbody>\n",
       "</table>\n",
       "</div>"
      ],
      "text/plain": [
       "Empty DataFrame\n",
       "Columns: []\n",
       "Index: []"
      ]
     },
     "execution_count": 33,
     "metadata": {},
     "output_type": "execute_result"
    }
   ],
   "source": [
    "# care plans\n",
    "q = \"\"\"\n",
    "    LOAD CSV WITH HEADERS FROM 'http://fileserver:4858/patient_data/csv/careplans.csv' AS row\n",
    "    MATCH (p:Patient {id:row.PATIENT})\n",
    "    MERGE (c:CarePlan {code:row.CODE})\n",
    "    SET c.description=row.DESCRIPTION\n",
    "    MERGE (cs:Encounter {id:row.ENCOUNTER, isEnd: false})\n",
    "    ON CREATE\n",
    "    SET cs.code=row.CODE, cs.date=datetime(row.START)\n",
    "    ON MATCH\n",
    "    SET cs.code=row.CODE\n",
    "    MERGE (p)-[:HAS_ENCOUNTER]->(cs)\n",
    "    MERGE (cs)-[:HAS_CARE_PLAN]->(c)\n",
    "    WITH p,c,cs,row\n",
    "    WHERE row.STOP IS NOT NULL and row.STOP <> ''\n",
    "    CREATE (ce:Encounter {id:row.ENCOUNTER, date:datetime(row.STOP)})\n",
    "    SET ce.code=row.CODE, ce.isEnd=true\n",
    "    MERGE (p)-[:HAS_ENCOUNTER]->(ce)\n",
    "    MERGE (ce)-[:HAS_CARE_PLAN]->(c)\n",
    "    MERGE (cs)-[:HAS_END]->(ce)\n",
    "\"\"\"\n",
    "cypher_run(q)"
   ]
  },
  {
   "cell_type": "code",
   "execution_count": 34,
   "metadata": {},
   "outputs": [
    {
     "name": "stderr",
     "output_type": "stream",
     "text": [
      "<ipython-input-8-e79678bb85b2>:3: ExperimentalWarning: pandas support is experimental and might be changed or removed in future versions\n",
      "  return result.to_df()\n"
     ]
    },
    {
     "data": {
      "text/html": [
       "<div>\n",
       "<style scoped>\n",
       "    .dataframe tbody tr th:only-of-type {\n",
       "        vertical-align: middle;\n",
       "    }\n",
       "\n",
       "    .dataframe tbody tr th {\n",
       "        vertical-align: top;\n",
       "    }\n",
       "\n",
       "    .dataframe thead th {\n",
       "        text-align: right;\n",
       "    }\n",
       "</style>\n",
       "<table border=\"1\" class=\"dataframe\">\n",
       "  <thead>\n",
       "    <tr style=\"text-align: right;\">\n",
       "      <th></th>\n",
       "      <th>c.code</th>\n",
       "    </tr>\n",
       "  </thead>\n",
       "  <tbody>\n",
       "    <tr>\n",
       "      <th>0</th>\n",
       "      <td>384758001</td>\n",
       "    </tr>\n",
       "    <tr>\n",
       "      <th>1</th>\n",
       "      <td>384758001</td>\n",
       "    </tr>\n",
       "    <tr>\n",
       "      <th>2</th>\n",
       "      <td>384758001</td>\n",
       "    </tr>\n",
       "    <tr>\n",
       "      <th>3</th>\n",
       "      <td>384758001</td>\n",
       "    </tr>\n",
       "    <tr>\n",
       "      <th>4</th>\n",
       "      <td>384758001</td>\n",
       "    </tr>\n",
       "  </tbody>\n",
       "</table>\n",
       "</div>"
      ],
      "text/plain": [
       "      c.code\n",
       "0  384758001\n",
       "1  384758001\n",
       "2  384758001\n",
       "3  384758001\n",
       "4  384758001"
      ]
     },
     "execution_count": 34,
     "metadata": {},
     "output_type": "execute_result"
    }
   ],
   "source": [
    "q = \"\"\" MATCH (e:Encounter)-[:HAS_CARE_PLAN]->(c:CarePlan) return c.code LIMIT 5; \"\"\"\n",
    "cypher_run(q)"
   ]
  },
  {
   "cell_type": "markdown",
   "metadata": {},
   "source": [
    "## Organizations"
   ]
  },
  {
   "cell_type": "code",
   "execution_count": 36,
   "metadata": {},
   "outputs": [
    {
     "name": "stderr",
     "output_type": "stream",
     "text": [
      "<ipython-input-8-e79678bb85b2>:3: ExperimentalWarning: pandas support is experimental and might be changed or removed in future versions\n",
      "  return result.to_df()\n"
     ]
    },
    {
     "data": {
      "text/html": [
       "<div>\n",
       "<style scoped>\n",
       "    .dataframe tbody tr th:only-of-type {\n",
       "        vertical-align: middle;\n",
       "    }\n",
       "\n",
       "    .dataframe tbody tr th {\n",
       "        vertical-align: top;\n",
       "    }\n",
       "\n",
       "    .dataframe thead th {\n",
       "        text-align: right;\n",
       "    }\n",
       "</style>\n",
       "<table border=\"1\" class=\"dataframe\">\n",
       "  <thead>\n",
       "    <tr style=\"text-align: right;\">\n",
       "      <th></th>\n",
       "    </tr>\n",
       "  </thead>\n",
       "  <tbody>\n",
       "  </tbody>\n",
       "</table>\n",
       "</div>"
      ],
      "text/plain": [
       "Empty DataFrame\n",
       "Columns: []\n",
       "Index: []"
      ]
     },
     "execution_count": 36,
     "metadata": {},
     "output_type": "execute_result"
    }
   ],
   "source": [
    "# organizations\n",
    "q = \"\"\"\n",
    "    LOAD CSV WITH HEADERS FROM 'http://fileserver:4858/patient_data/csv/organizations.csv' AS row        MATCH (o:Organization {id:row.Id})\n",
    "              SET o.name=row.NAME\n",
    "            MERGE (a:Address {address: row.ADDRESS})\n",
    "              SET a.location = point({latitude:toFloat(row.LAT), longitude:toFloat(row.LON)})\n",
    "            MERGE (o)-[:HAS_ADDRESS]->(a)\n",
    "    \"\"\"\n",
    "cypher_run(q)"
   ]
  },
  {
   "cell_type": "code",
   "execution_count": 37,
   "metadata": {},
   "outputs": [
    {
     "name": "stderr",
     "output_type": "stream",
     "text": [
      "<ipython-input-8-e79678bb85b2>:3: ExperimentalWarning: pandas support is experimental and might be changed or removed in future versions\n",
      "  return result.to_df()\n"
     ]
    },
    {
     "data": {
      "text/html": [
       "<div>\n",
       "<style scoped>\n",
       "    .dataframe tbody tr th:only-of-type {\n",
       "        vertical-align: middle;\n",
       "    }\n",
       "\n",
       "    .dataframe tbody tr th {\n",
       "        vertical-align: top;\n",
       "    }\n",
       "\n",
       "    .dataframe thead th {\n",
       "        text-align: right;\n",
       "    }\n",
       "</style>\n",
       "<table border=\"1\" class=\"dataframe\">\n",
       "  <thead>\n",
       "    <tr style=\"text-align: right;\">\n",
       "      <th></th>\n",
       "      <th>o.id</th>\n",
       "      <th>a.address</th>\n",
       "    </tr>\n",
       "  </thead>\n",
       "  <tbody>\n",
       "    <tr>\n",
       "      <th>0</th>\n",
       "      <td>74ab949d-17ac-3309-83a0-13b4405c66aa</td>\n",
       "      <td>881 Main Street</td>\n",
       "    </tr>\n",
       "    <tr>\n",
       "      <th>1</th>\n",
       "      <td>faffaf6a-ee1a-3673-b0b0-421a9c249244</td>\n",
       "      <td>66 WASHINGTON ST</td>\n",
       "    </tr>\n",
       "    <tr>\n",
       "      <th>2</th>\n",
       "      <td>4112b8b1-59df-3255-a7ca-f42ee0a4cb2e</td>\n",
       "      <td>37 ROUTE 6A</td>\n",
       "    </tr>\n",
       "    <tr>\n",
       "      <th>3</th>\n",
       "      <td>e09d4c49-c2ef-3b0f-9a46-3719d9219306</td>\n",
       "      <td>60 HOSPITAL RD</td>\n",
       "    </tr>\n",
       "    <tr>\n",
       "      <th>4</th>\n",
       "      <td>ef5390b4-cba5-3d83-96db-af783a7adb43</td>\n",
       "      <td>360 MERRIMACK ST</td>\n",
       "    </tr>\n",
       "  </tbody>\n",
       "</table>\n",
       "</div>"
      ],
      "text/plain": [
       "                                   o.id         a.address\n",
       "0  74ab949d-17ac-3309-83a0-13b4405c66aa   881 Main Street\n",
       "1  faffaf6a-ee1a-3673-b0b0-421a9c249244  66 WASHINGTON ST\n",
       "2  4112b8b1-59df-3255-a7ca-f42ee0a4cb2e       37 ROUTE 6A\n",
       "3  e09d4c49-c2ef-3b0f-9a46-3719d9219306    60 HOSPITAL RD\n",
       "4  ef5390b4-cba5-3d83-96db-af783a7adb43  360 MERRIMACK ST"
      ]
     },
     "execution_count": 37,
     "metadata": {},
     "output_type": "execute_result"
    }
   ],
   "source": [
    "q = \"\"\" MATCH (o:Organization)-[:HAS_ADDRESS]->(a:Address) return o.id,a.address LIMIT 5; \"\"\"\n",
    "cypher_run(q)"
   ]
  },
  {
   "cell_type": "code",
   "execution_count": 56,
   "metadata": {},
   "outputs": [
    {
     "name": "stderr",
     "output_type": "stream",
     "text": [
      "<ipython-input-8-e79678bb85b2>:3: ExperimentalWarning: pandas support is experimental and might be changed or removed in future versions\n",
      "  return result.to_df()\n"
     ]
    },
    {
     "data": {
      "text/html": [
       "<div>\n",
       "<style scoped>\n",
       "    .dataframe tbody tr th:only-of-type {\n",
       "        vertical-align: middle;\n",
       "    }\n",
       "\n",
       "    .dataframe tbody tr th {\n",
       "        vertical-align: top;\n",
       "    }\n",
       "\n",
       "    .dataframe thead th {\n",
       "        text-align: right;\n",
       "    }\n",
       "</style>\n",
       "<table border=\"1\" class=\"dataframe\">\n",
       "  <thead>\n",
       "    <tr style=\"text-align: right;\">\n",
       "      <th></th>\n",
       "    </tr>\n",
       "  </thead>\n",
       "  <tbody>\n",
       "  </tbody>\n",
       "</table>\n",
       "</div>"
      ],
      "text/plain": [
       "Empty DataFrame\n",
       "Columns: []\n",
       "Index: []"
      ]
     },
     "execution_count": 56,
     "metadata": {},
     "output_type": "execute_result"
    }
   ],
   "source": [
    "q = \"\"\"\n",
    "  \n",
    "    CREATE INDEX IF NOT EXISTS FOR (e:Encounter) ON (e.id);\n",
    "    CREATE INDEX IF NOT EXISTS FOR (e:Encounter) ON (e.date);\n",
    "    CREATE INDEX IF NOT EXISTS FOR (e:Encounter) ON (e.isEnd);\n",
    "    CREATE INDEX IF NOT EXISTS FOR (p:Patient) ON (p.id);\n",
    "    CREATE INDEX IF NOT EXISTS FOR (p:Provider) ON (p.id);\n",
    "    CREATE INDEX IF NOT EXISTS FOR (p:Payer) ON (p.id);    \n",
    "    CREATE INDEX IF NOT EXISTS FOR (o:Organization) ON (o.id);\n",
    "    CREATE INDEX IF NOT EXISTS FOR (d:Drug) ON (d.code);\n",
    "    CREATE INDEX IF NOT EXISTS FOR (c:Condition) ON (c.code);\n",
    "    CREATE INDEX IF NOT EXISTS FOR (c:CarePlan) ON (c.id);\n",
    "    CREATE INDEX IF NOT EXISTS FOR (s:Speciality) ON (s.name);\n",
    "    CREATE INDEX IF NOT EXISTS FOR (a:Allergy) ON (a.code);\n",
    "    CREATE INDEX IF NOT EXISTS FOR (a:Address) ON (a.address);\n",
    "    CREATE INDEX IF NOT EXISTS FOR (p:Procedure) ON (p.code);\n",
    "\n",
    "    \"\"\"\n",
    "cypher_run(q)"
   ]
  },
  {
   "cell_type": "code",
   "execution_count": 57,
   "metadata": {},
   "outputs": [
    {
     "name": "stderr",
     "output_type": "stream",
     "text": [
      "<ipython-input-8-e79678bb85b2>:3: ExperimentalWarning: pandas support is experimental and might be changed or removed in future versions\n",
      "  return result.to_df()\n"
     ]
    },
    {
     "data": {
      "text/html": [
       "<div>\n",
       "<style scoped>\n",
       "    .dataframe tbody tr th:only-of-type {\n",
       "        vertical-align: middle;\n",
       "    }\n",
       "\n",
       "    .dataframe tbody tr th {\n",
       "        vertical-align: top;\n",
       "    }\n",
       "\n",
       "    .dataframe thead th {\n",
       "        text-align: right;\n",
       "    }\n",
       "</style>\n",
       "<table border=\"1\" class=\"dataframe\">\n",
       "  <thead>\n",
       "    <tr style=\"text-align: right;\">\n",
       "      <th></th>\n",
       "      <th>batches</th>\n",
       "      <th>total</th>\n",
       "      <th>timeTaken</th>\n",
       "      <th>committedOperations</th>\n",
       "      <th>failedOperations</th>\n",
       "      <th>failedBatches</th>\n",
       "      <th>retries</th>\n",
       "      <th>errorMessages</th>\n",
       "      <th>batch</th>\n",
       "      <th>operations</th>\n",
       "      <th>wasTerminated</th>\n",
       "      <th>failedParams</th>\n",
       "      <th>updateStatistics</th>\n",
       "    </tr>\n",
       "  </thead>\n",
       "  <tbody>\n",
       "    <tr>\n",
       "      <th>0</th>\n",
       "      <td>1</td>\n",
       "      <td>122</td>\n",
       "      <td>0</td>\n",
       "      <td>122</td>\n",
       "      <td>0</td>\n",
       "      <td>0</td>\n",
       "      <td>0</td>\n",
       "      <td>{}</td>\n",
       "      <td>{'total': 1, 'committed': 1, 'failed': 0, 'err...</td>\n",
       "      <td>{'total': 122, 'committed': 122, 'failed': 0, ...</td>\n",
       "      <td>False</td>\n",
       "      <td>{}</td>\n",
       "      <td>{'nodesDeleted': 0, 'labelsAdded': 0, 'relatio...</td>\n",
       "    </tr>\n",
       "  </tbody>\n",
       "</table>\n",
       "</div>"
      ],
      "text/plain": [
       "   batches  total  timeTaken  committedOperations  failedOperations  \\\n",
       "0        1    122          0                  122                 0   \n",
       "\n",
       "   failedBatches  retries errorMessages  \\\n",
       "0              0        0            {}   \n",
       "\n",
       "                                               batch  \\\n",
       "0  {'total': 1, 'committed': 1, 'failed': 0, 'err...   \n",
       "\n",
       "                                          operations  wasTerminated  \\\n",
       "0  {'total': 122, 'committed': 122, 'failed': 0, ...          False   \n",
       "\n",
       "  failedParams                                   updateStatistics  \n",
       "0           {}  {'nodesDeleted': 0, 'labelsAdded': 0, 'relatio...  "
      ]
     },
     "execution_count": 57,
     "metadata": {},
     "output_type": "execute_result"
    }
   ],
   "source": [
    "\n",
    "  # Create NEXT relationship between encounters of a patient\n",
    "q = \"\"\"\n",
    "    CALL apoc.periodic.iterate(\n",
    "    'MATCH (p:Patient) RETURN p',\n",
    "    'MATCH (p)-[:HAS_ENCOUNTER]->(e)\n",
    "    WITH e\n",
    "    ORDER BY e.date\n",
    "    WITH collect(e) AS encounters\n",
    "    WITH encounters, encounters[1..] as nextEncounters\n",
    "    UNWIND range(0,size(nextEncounters)-1,1) as index\n",
    "    WITH encounters[index] as first, nextEncounters[index] as second\n",
    "    CREATE (first)-[:NEXT]->(second)',{iterateList:false});\n",
    "    \n",
    "    \"\"\"\n",
    "cypher_run(q)"
   ]
  },
  {
   "cell_type": "code",
   "execution_count": 58,
   "metadata": {},
   "outputs": [
    {
     "name": "stderr",
     "output_type": "stream",
     "text": [
      "<ipython-input-8-e79678bb85b2>:3: ExperimentalWarning: pandas support is experimental and might be changed or removed in future versions\n",
      "  return result.to_df()\n"
     ]
    },
    {
     "data": {
      "text/html": [
       "<div>\n",
       "<style scoped>\n",
       "    .dataframe tbody tr th:only-of-type {\n",
       "        vertical-align: middle;\n",
       "    }\n",
       "\n",
       "    .dataframe tbody tr th {\n",
       "        vertical-align: top;\n",
       "    }\n",
       "\n",
       "    .dataframe thead th {\n",
       "        text-align: right;\n",
       "    }\n",
       "</style>\n",
       "<table border=\"1\" class=\"dataframe\">\n",
       "  <thead>\n",
       "    <tr style=\"text-align: right;\">\n",
       "      <th></th>\n",
       "      <th>batches</th>\n",
       "      <th>total</th>\n",
       "      <th>timeTaken</th>\n",
       "      <th>committedOperations</th>\n",
       "      <th>failedOperations</th>\n",
       "      <th>failedBatches</th>\n",
       "      <th>retries</th>\n",
       "      <th>errorMessages</th>\n",
       "      <th>batch</th>\n",
       "      <th>operations</th>\n",
       "      <th>wasTerminated</th>\n",
       "      <th>failedParams</th>\n",
       "      <th>updateStatistics</th>\n",
       "    </tr>\n",
       "  </thead>\n",
       "  <tbody>\n",
       "    <tr>\n",
       "      <th>0</th>\n",
       "      <td>1</td>\n",
       "      <td>185</td>\n",
       "      <td>0</td>\n",
       "      <td>185</td>\n",
       "      <td>0</td>\n",
       "      <td>0</td>\n",
       "      <td>0</td>\n",
       "      <td>{}</td>\n",
       "      <td>{'total': 1, 'committed': 1, 'failed': 0, 'err...</td>\n",
       "      <td>{'total': 185, 'committed': 185, 'failed': 0, ...</td>\n",
       "      <td>False</td>\n",
       "      <td>{}</td>\n",
       "      <td>{'nodesDeleted': 0, 'labelsAdded': 0, 'relatio...</td>\n",
       "    </tr>\n",
       "  </tbody>\n",
       "</table>\n",
       "</div>"
      ],
      "text/plain": [
       "   batches  total  timeTaken  committedOperations  failedOperations  \\\n",
       "0        1    185          0                  185                 0   \n",
       "\n",
       "   failedBatches  retries errorMessages  \\\n",
       "0              0        0            {}   \n",
       "\n",
       "                                               batch  \\\n",
       "0  {'total': 1, 'committed': 1, 'failed': 0, 'err...   \n",
       "\n",
       "                                          operations  wasTerminated  \\\n",
       "0  {'total': 185, 'committed': 185, 'failed': 0, ...          False   \n",
       "\n",
       "  failedParams                                   updateStatistics  \n",
       "0           {}  {'nodesDeleted': 0, 'labelsAdded': 0, 'relatio...  "
      ]
     },
     "execution_count": 58,
     "metadata": {},
     "output_type": "execute_result"
    }
   ],
   "source": [
    "  # Pre-compute patient counts for each Condition\n",
    "q = \"\"\"\n",
    "    CALL apoc.periodic.iterate('MATCH (c:Condition) RETURN c',\n",
    "      'MATCH (c)<-[:HAS_CONDITION]-(:Encounter)<-[:HAS_ENCOUNTER]-(p:Patient)\n",
    "      WITH c,count(p) AS NUM\n",
    "      SET c.num=NUM', {}\n",
    "      );\n",
    "        \"\"\"\n",
    "cypher_run(q)"
   ]
  },
  {
   "cell_type": "markdown",
   "metadata": {},
   "source": [
    "# Procedures Performed throught the Patient Journey\n",
    "Where the condition ceased to exsist"
   ]
  },
  {
   "cell_type": "code",
   "execution_count": 73,
   "metadata": {},
   "outputs": [
    {
     "name": "stdout",
     "output_type": "stream",
     "text": [
      "['171207006', '715252007', '715252007', '171207006', '428211000124100', '386516004', '868187001', '715252007', '171207006', '710841007', '710824005', '430193006']\n"
     ]
    },
    {
     "name": "stderr",
     "output_type": "stream",
     "text": [
      "<ipython-input-8-e79678bb85b2>:3: ExperimentalWarning: pandas support is experimental and might be changed or removed in future versions\n",
      "  return result.to_df()\n"
     ]
    }
   ],
   "source": [
    "q = \"\"\"\n",
    "\n",
    "\n",
    "MATCH (c)<-[:HAS_CONDITION]-(e)-[:HAS_END]->(e2),(e)<-[:HAS_ENCOUNTER]-(patient)\n",
    "WITH patient, c, e, e2 LIMIT 10\n",
    "MATCH (patient)-[r:HAS_ENCOUNTER]->(encounter)\n",
    "WHERE e.date <= encounter.date <= e2.date\n",
    "WITH patient, c, encounter ORDER BY encounter.date\n",
    "WITH patient, c, collect(encounter) AS nodes\n",
    "UNWIND nodes AS tE\n",
    "MATCH (tE)-[:HAS_PROCEDURE]->(procedure)\n",
    "RETURN patient.firstName AS firstName, patient.lastName AS lastName,\n",
    "      c.code AS condition, collect(procedure.code) AS procedures\n",
    "\n",
    "\"\"\"\n",
    "df = cypher_run(q)\n",
    "df\n",
    "\n",
    "for p in df['procedures']:\n",
    "    print(p)"
   ]
  }
 ],
 "metadata": {
  "kernelspec": {
   "display_name": "Python 3",
   "language": "python",
   "name": "python3"
  },
  "language_info": {
   "codemirror_mode": {
    "name": "ipython",
    "version": 3
   },
   "file_extension": ".py",
   "mimetype": "text/x-python",
   "name": "python",
   "nbconvert_exporter": "python",
   "pygments_lexer": "ipython3",
   "version": "3.10.9"
  }
 },
 "nbformat": 4,
 "nbformat_minor": 2
}
